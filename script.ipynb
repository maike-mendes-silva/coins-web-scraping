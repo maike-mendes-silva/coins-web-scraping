{
 "cells": [
  {
   "cell_type": "code",
   "execution_count": null,
   "id": "b1015ec2",
   "metadata": {},
   "outputs": [],
   "source": [
    "from selenium import webdriver;\n",
    "from selenium.webdriver.chrome.options import Options\n",
    "from selenium.webdriver.common.by import By;\n",
    "from selenium.webdriver.common.keys import Keys;\n",
    "#import pandas as pd;\n",
    "\n",
    "#Configuração necessária para poder usar o selenium no Brave.\n",
    "option = webdriver.ChromeOptions()\n",
    "option.binary_location = r\"C:\\Program Files\\BraveSoftware\\Brave-Browser\\Application\\brave.exe\";\n",
    "navegador = webdriver.Chrome(options=option);\n",
    "\n",
    "#Pegar a cotação do dólar\n",
    "navegador.get(\"https://www.google.com/\");\n",
    "barraPesquisa = navegador.find_element(By.XPATH, '/html/body/div[1]/div[3]/form/div[1]/div[1]/div[1]/div/div[2]/input')\n",
    "barraPesquisa.send_keys(\"cotacão dolar\");\n",
    "barraPesquisa.send_keys(Keys.ENTER);\n",
    "\n",
    "moduloCotacao = navegador.find_element(By.XPATH, '//*[@id=\"knowledge-currency__updatable-data-column\"]/div[1]/div[2]/span[1]') \n",
    "cotacaoDolar = float(moduloCotacao.get_attribute(\"data-value\"));\n",
    "cotacaoDolar = f'{cotacaoDolar:.4f}';\n",
    "\n",
    "print(cotacaoDolar);\n",
    "\n",
    "navegador.quit();\n"
   ]
  }
 ],
 "metadata": {
  "kernelspec": {
   "display_name": "Python 3 (ipykernel)",
   "language": "python",
   "name": "python3"
  },
  "language_info": {
   "codemirror_mode": {
    "name": "ipython",
    "version": 3
   },
   "file_extension": ".py",
   "mimetype": "text/x-python",
   "name": "python",
   "nbconvert_exporter": "python",
   "pygments_lexer": "ipython3",
   "version": "3.9.13"
  }
 },
 "nbformat": 4,
 "nbformat_minor": 5
}
