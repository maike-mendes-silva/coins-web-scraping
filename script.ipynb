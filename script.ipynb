{
 "cells": [
  {
   "cell_type": "code",
   "execution_count": 6,
   "id": "e73d862b",
   "metadata": {},
   "outputs": [
    {
     "name": "stdout",
     "output_type": "stream",
     "text": [
      "[5.2156, 5.1525, 5.199800000000001]\n"
     ]
    }
   ],
   "source": [
    "from selenium import webdriver;\n",
    "from selenium.webdriver.chrome.options import Options\n",
    "from selenium.webdriver.common.by import By;\n",
    "import pyautogui;\n",
    "import clipboard;\n",
    "import time;\n",
    "\n",
    "#Configuração necessária para poder usar o selenium no Brave.\n",
    "option = webdriver.ChromeOptions()\n",
    "option.binary_location = r\"C:\\Program Files\\BraveSoftware\\Brave-Browser\\Application\\brave.exe\";\n",
    "navegador = webdriver.Chrome(options=option);\n",
    "\n",
    "#Pegar as cotações do dólar\n",
    "cotacaoDolar = [];\n",
    "navegador.get(\"https://www.google.com/finance/quote/USD-BRL?sa=X&ved=2ahUKEwjEqdyswf_8AhUiCbkGHcLzDtsQmY0JegQIBhAd\");\n",
    "\n",
    "#Solução alternativa devido a problemas com o xpath do elemento contendo a cotação do dolar (melhorar)\n",
    "time.sleep(3);\n",
    "pyautogui.doubleClick(x=214, y=445);\n",
    "pyautogui.hotkey('ctrl', 'c'); \n",
    "text = clipboard.paste().replace(\",\",\".\");\n",
    "cotacaoDolar.append(float(text));\n",
    "clipboard.copy(\"\") # deixar vazio\n",
    "\n",
    "navegador.get(\"https://www.google.com/finance/quote/USD-BRL?sa=X&ved=2ahUKEwjEqdyswf_8AhUiCbkGHcLzDtsQmY0JegQIBhAd&window=5D\");\n",
    "\n",
    "time.sleep(3);\n",
    "pyautogui.click(x=417, y=441, clicks=3);\n",
    "pyautogui.hotkey('ctrl', 'c'); \n",
    "text = clipboard.paste().replace(\",\",\".\");\n",
    "if text[0] == \"+\":\n",
    "    text.replace(\"+\", \"\");\n",
    "    text = text.split();\n",
    "    cotacaoAntiga = float(text[0]);\n",
    "    cotacaoDolar.append(cotacaoDolar[0] - cotacaoAntiga);\n",
    "elif text[0] == \"-\":\n",
    "    text.replace(\"-\", \"\");\n",
    "    text = text.split();\n",
    "    cotacaoAntiga = float(text[0]);\n",
    "    cotacaoDolar.append(cotacaoDolar[0] - cotacaoAntiga);\n",
    "else:\n",
    "    print(\"Deu erro fi\");\n",
    "\n",
    "navegador.get(\"https://www.google.com/finance/quote/USD-BRL?sa=X&ved=2ahUKEwjEqdyswf_8AhUiCbkGHcLzDtsQmY0JegQIBhAd&window=1M\");\n",
    "\n",
    "time.sleep(3);\n",
    "pyautogui.click(x=417, y=441, clicks=3);\n",
    "pyautogui.hotkey('ctrl', 'c'); \n",
    "text = clipboard.paste().replace(\",\",\".\");\n",
    "if text[0] == \"+\":\n",
    "    text.replace(\"+\", \"\");\n",
    "    text = text.split();\n",
    "    cotacaoAntiga = float(text[0]);\n",
    "    cotacaoDolar.append(cotacaoDolar[0] - cotacaoAntiga);\n",
    "elif text[0] == \"-\":\n",
    "    text.replace(\"-\", \"\");\n",
    "    text = text.split();\n",
    "    cotacaoAntiga = float(text[0]);\n",
    "    cotacaoDolar.append(cotacaoDolar[0] - cotacaoAntiga);\n",
    "else:\n",
    "    print(\"Deu erro fi\");\n",
    "\n",
    "print(cotacaoDolar);\n",
    "\n",
    "clipboard.copy(\"\") # deixar vazio\n",
    "\n",
    "#print(cotacaoDolar);\n",
    "#navegador.quit();\n"
   ]
  },
  {
   "cell_type": "code",
   "execution_count": 5,
   "id": "0bd3a5dd",
   "metadata": {},
   "outputs": [
    {
     "name": "stdout",
     "output_type": "stream",
     "text": [
      "Point(x=417, y=441)\n"
     ]
    }
   ],
   "source": [
    "import pyautogui\n",
    "import time\n",
    "\n",
    "time.sleep(5)\n",
    "print(pyautogui.position())\n",
    "\n"
   ]
  },
  {
   "cell_type": "code",
   "execution_count": 2,
   "id": "1dee0d4f",
   "metadata": {},
   "outputs": [
    {
     "ename": "AttributeError",
     "evalue": "'list' object has no attribute 'length'",
     "output_type": "error",
     "traceback": [
      "\u001b[1;31m---------------------------------------------------------------------------\u001b[0m",
      "\u001b[1;31mAttributeError\u001b[0m                            Traceback (most recent call last)",
      "\u001b[1;32m~\\AppData\\Local\\Temp\\ipykernel_8976\\1529928749.py\u001b[0m in \u001b[0;36m<module>\u001b[1;34m\u001b[0m\n\u001b[0;32m      3\u001b[0m \u001b[0mx\u001b[0m \u001b[1;33m=\u001b[0m \u001b[0mtxt\u001b[0m\u001b[1;33m.\u001b[0m\u001b[0msplit\u001b[0m\u001b[1;33m(\u001b[0m\u001b[1;33m)\u001b[0m\u001b[1;33m\u001b[0m\u001b[1;33m\u001b[0m\u001b[0m\n\u001b[0;32m      4\u001b[0m \u001b[1;33m\u001b[0m\u001b[0m\n\u001b[1;32m----> 5\u001b[1;33m \u001b[0mprint\u001b[0m\u001b[1;33m(\u001b[0m\u001b[0mx\u001b[0m\u001b[1;33m.\u001b[0m\u001b[0mlength\u001b[0m\u001b[1;33m(\u001b[0m\u001b[1;33m)\u001b[0m\u001b[1;33m)\u001b[0m\u001b[1;33m\u001b[0m\u001b[1;33m\u001b[0m\u001b[0m\n\u001b[0m",
      "\u001b[1;31mAttributeError\u001b[0m: 'list' object has no attribute 'length'"
     ]
    }
   ],
   "source": [
    "txt = \"welcome to the jungle\"\n",
    "\n",
    "x = txt.split()\n",
    "\n",
    "print(x.length())"
   ]
  },
  {
   "cell_type": "code",
   "execution_count": null,
   "id": "ac5c5dae",
   "metadata": {},
   "outputs": [],
   "source": []
  }
 ],
 "metadata": {
  "kernelspec": {
   "display_name": "Python 3 (ipykernel)",
   "language": "python",
   "name": "python3"
  },
  "language_info": {
   "codemirror_mode": {
    "name": "ipython",
    "version": 3
   },
   "file_extension": ".py",
   "mimetype": "text/x-python",
   "name": "python",
   "nbconvert_exporter": "python",
   "pygments_lexer": "ipython3",
   "version": "3.9.13"
  }
 },
 "nbformat": 4,
 "nbformat_minor": 5
}
