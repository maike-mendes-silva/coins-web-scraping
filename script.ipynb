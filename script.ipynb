{
 "cells": [
  {
   "cell_type": "code",
   "execution_count": null,
   "id": "6a3f66c7",
   "metadata": {
    "collapsed": true
   },
   "outputs": [],
   "source": []
  },
  {
   "cell_type": "code",
   "execution_count": 28,
   "id": "e73d862b",
   "metadata": {},
   "outputs": [
    {
     "name": "stdout",
     "output_type": "stream",
     "text": [
      "[5.2156, 5.147200000000001, 5.16, 5.159400000000001, 5.2534, 3.2329000000000003]\n",
      "[5.582, 5.5221, 5.5558, 5.3252999999999995, 5.962899999999999, 3.9741999999999997]\n",
      "[6.2921, 6.1880999999999995, 6.273599999999999, 6.2932999999999995, 7.1175, 4.5150999999999994]\n",
      "[[5.2156, 5.147200000000001, 5.16, 5.159400000000001, 5.2534, 3.2329000000000003], [5.582, 5.5221, 5.5558, 5.3252999999999995, 5.962899999999999, 3.9741999999999997], [6.2921, 6.1880999999999995, 6.273599999999999, 6.2932999999999995, 7.1175, 4.5150999999999994]]\n"
     ]
    }
   ],
   "source": [
    "from selenium import webdriver;\n",
    "from selenium.webdriver.chrome.options import Options\n",
    "#from selenium.webdriver.common.by import By;\n",
    "import pyautogui;\n",
    "import clipboard;\n",
    "import time;\n",
    "\n",
    "def getCotacoesAntigas (link, cotacao):\n",
    "    navegador.get(link);\n",
    "    \n",
    "    time.sleep(3);\n",
    "    pyautogui.click(x=417, y=441, clicks=3);\n",
    "    pyautogui.hotkey('ctrl', 'c'); \n",
    "    text = clipboard.paste().replace(\",\",\".\");\n",
    "    if text[0] == \"+\":\n",
    "        text.replace(\"+\", \"\");\n",
    "        text = text.split();\n",
    "        cotacaoAntiga = float(text[0]);\n",
    "        cotacao.append(cotacao[0] - cotacaoAntiga);\n",
    "    elif text[0] == \"-\":\n",
    "        text.replace(\"-\", \"\");\n",
    "        text = text.split();\n",
    "        cotacaoAntiga = float(text[0]);\n",
    "        cotacao.append(cotacao[0] - cotacaoAntiga);\n",
    "    else:\n",
    "        print(\"Deu erro fi\");\n",
    "        \n",
    "    return cotacao;\n",
    "\n",
    "def getCotacao (pagina, links):\n",
    "    #Pegar as cotações\n",
    "    cotacao = [];\n",
    "    navegador.get(pagina);\n",
    "    clipboard.copy(\"\") # deixar vazio\n",
    "\n",
    "    #Solução alternativa devido a problemas com o xpath do elemento contendo a cotação (melhorar)\n",
    "    time.sleep(3);\n",
    "    pyautogui.doubleClick(x=214, y=445);\n",
    "    pyautogui.hotkey('ctrl', 'c'); \n",
    "    text = clipboard.paste().replace(\",\",\".\");\n",
    "    cotacao.append(float(text));\n",
    "    clipboard.copy(\"\") # deixar vazio\n",
    "\n",
    "    for link in links:\n",
    "        cotacao = getCotacoesAntigas(link, cotacao);\n",
    "    \n",
    "    return cotacao\n",
    "    \n",
    "\n",
    "#Configuração necessária para poder usar o selenium no Brave.\n",
    "option = webdriver.ChromeOptions()\n",
    "option.binary_location = r\"C:\\Program Files\\BraveSoftware\\Brave-Browser\\Application\\brave.exe\";\n",
    "navegador = webdriver.Chrome(options=option);\n",
    "\n",
    "paginas = [\n",
    "    \"https://www.google.com/finance/quote/USD-BRL\",\n",
    "    \"https://www.google.com/finance/quote/EUR-BRL\",\n",
    "    \"https://www.google.com/finance/quote/GBP-BRL\"\n",
    "];\n",
    "\n",
    "linksCotacoes = [\n",
    "    [\"https://www.google.com/finance/quote/USD-BRL?window=5D\",\n",
    "    \"https://www.google.com/finance/quote/USD-BRL?window=1M\",\n",
    "    \"https://www.google.com/finance/quote/USD-BRL?window=6M\",\n",
    "    \"https://www.google.com/finance/quote/USD-BRL?window=1Y\",\n",
    "    \"https://www.google.com/finance/quote/USD-BRL?window=5Y\"],\n",
    "    [\"https://www.google.com/finance/quote/EUR-BRL?window=5D\",\n",
    "    \"https://www.google.com/finance/quote/EUR-BRL?window=1M\",\n",
    "    \"https://www.google.com/finance/quote/EUR-BRL?window=6M\",\n",
    "    \"https://www.google.com/finance/quote/EUR-BRL?window=1Y\",\n",
    "    \"https://www.google.com/finance/quote/EUR-BRL?window=5Y\"],\n",
    "    [\"https://www.google.com/finance/quote/GBP-BRL?window=5D\",\n",
    "    \"https://www.google.com/finance/quote/GBP-BRL?window=1M\",\n",
    "    \"https://www.google.com/finance/quote/GBP-BRL?window=6M\",\n",
    "    \"https://www.google.com/finance/quote/GBP-BRL?window=1Y\",\n",
    "    \"https://www.google.com/finance/quote/GBP-BRL?window=5Y\"],\n",
    "    \n",
    "];\n",
    "\n",
    "for i in range(len(paginas)):\n",
    "    cotacoes.append(getCotacao(paginas[i], linksCotacoes[i]));\n",
    "    print(cotacoes[i]);\n",
    "    \n",
    "print(cotacoes);\n",
    "    \n",
    "#navegador.quit();"
   ]
  },
  {
   "cell_type": "code",
   "execution_count": null,
   "id": "94f486e2",
   "metadata": {},
   "outputs": [],
   "source": []
  }
 ],
 "metadata": {
  "kernelspec": {
   "display_name": "Python 3 (ipykernel)",
   "language": "python",
   "name": "python3"
  },
  "language_info": {
   "codemirror_mode": {
    "name": "ipython",
    "version": 3
   },
   "file_extension": ".py",
   "mimetype": "text/x-python",
   "name": "python",
   "nbconvert_exporter": "python",
   "pygments_lexer": "ipython3",
   "version": "3.9.13"
  }
 },
 "nbformat": 4,
 "nbformat_minor": 5
}
