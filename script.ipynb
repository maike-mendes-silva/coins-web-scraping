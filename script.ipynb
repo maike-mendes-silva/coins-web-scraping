{
 "cells": [
  {
   "cell_type": "code",
   "execution_count": 12,
   "id": "e73d862b",
   "metadata": {},
   "outputs": [
    {
     "name": "stdout",
     "output_type": "stream",
     "text": [
      "[5.2107]\n",
      "[5.2107]\n"
     ]
    }
   ],
   "source": [
    "from selenium import webdriver;\n",
    "from selenium.webdriver.chrome.options import Options\n",
    "from selenium.webdriver.common.by import By;\n",
    "import pyautogui;\n",
    "import clipboard;\n",
    "import time;\n",
    "\n",
    "#Configuração necessária para poder usar o selenium no Brave.\n",
    "option = webdriver.ChromeOptions()\n",
    "option.binary_location = r\"C:\\Program Files\\BraveSoftware\\Brave-Browser\\Application\\brave.exe\";\n",
    "navegador = webdriver.Chrome(options=option);\n",
    "\n",
    "#Pegar as cotações do dólar\n",
    "cotacaoDolar = [];\n",
    "navegador.get(\"https://www.google.com/finance/quote/USD-BRL?sa=X&ved=2ahUKEwjEqdyswf_8AhUiCbkGHcLzDtsQmY0JegQIBhAd\");\n",
    "\n",
    "#Solução alternativa devido a problemas com o xpath do elemento contendo a cotação do dolar - melhorar\n",
    "time.sleep(10);\n",
    "pyautogui.doubleClick(x=214, y=445);\n",
    "pyautogui.hotkey('ctrl', 'c'); \n",
    "text = clipboard.paste().replace(\",\",\".\");\n",
    "cotacaoDolar.append(float(text));\n",
    "clipboard.copy(\"\") # deixar vazio\n",
    "print(cotacaoDolar);\n",
    "#cotacaoDolar.append(float(moduloCotacao.getText()));\n",
    "\n",
    "navegador.quit();\n"
   ]
  },
  {
   "cell_type": "code",
   "execution_count": null,
   "id": "0bd3a5dd",
   "metadata": {},
   "outputs": [],
   "source": []
  }
 ],
 "metadata": {
  "kernelspec": {
   "display_name": "Python 3 (ipykernel)",
   "language": "python",
   "name": "python3"
  },
  "language_info": {
   "codemirror_mode": {
    "name": "ipython",
    "version": 3
   },
   "file_extension": ".py",
   "mimetype": "text/x-python",
   "name": "python",
   "nbconvert_exporter": "python",
   "pygments_lexer": "ipython3",
   "version": "3.9.13"
  }
 },
 "nbformat": 4,
 "nbformat_minor": 5
}
